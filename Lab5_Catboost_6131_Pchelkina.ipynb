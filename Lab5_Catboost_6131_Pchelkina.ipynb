{
 "cells": [
  {
   "cell_type": "markdown",
   "id": "3b09be93",
   "metadata": {},
   "source": [
    "## Лабораторная работа 5\n",
    "### Градиентный бустинг с Catboost\n",
    "### Выполнил: 6131-010302D, Пчелкина Юлия Жиганшевна"
   ]
  },
  {
   "cell_type": "markdown",
   "id": "a44cc060",
   "metadata": {},
   "source": [
    "####  0. Набор данных\n",
    "\n",
    "Подобрать набор данных для классификации (количество классов не имеет значения) и регрессии. Важно наличие числовых и категориальных признаков в данных. Опишите данные, что обозначает каждый столбец, какого типа (категориальный, вещественный, целочисленный, бинарный) данный столбец, при необходимости для категориальных в том числе бинарных признаков привести расшифровку их значений. "
   ]
  },
  {
   "cell_type": "code",
   "execution_count": null,
   "id": "fe6c3cc5",
   "metadata": {},
   "outputs": [],
   "source": [
    "#!pip install catboost"
   ]
  },
  {
   "cell_type": "code",
   "execution_count": 1,
   "id": "aa4426ee",
   "metadata": {},
   "outputs": [],
   "source": [
    "import numpy as np\n",
    "import pandas as pd\n",
    "import seaborn as sns"
   ]
  },
  {
   "cell_type": "code",
   "execution_count": 114,
   "id": "81e7c0b6",
   "metadata": {},
   "outputs": [],
   "source": [
    "from sklearn.model_selection import train_test_split\n",
    "from sklearn.preprocessing import StandardScaler\n",
    "from sklearn.metrics import confusion_matrix, precision_recall_curve, classification_report, confusion_matrix\n",
    "\n"
   ]
  },
  {
   "cell_type": "code",
   "execution_count": 75,
   "id": "2c8987fd",
   "metadata": {},
   "outputs": [],
   "source": [
    "import catboost\n",
    "from catboost import *\n",
    "from catboost import datasets\n",
    "from catboost import CatBoostClassifier"
   ]
  },
  {
   "cell_type": "markdown",
   "id": "129d4802",
   "metadata": {},
   "source": [
    "Набор данных относится к красному португальскому вину «Vinho Verde»"
   ]
  },
  {
   "cell_type": "code",
   "execution_count": 142,
   "id": "47921b5f",
   "metadata": {},
   "outputs": [],
   "source": [
    "df = pd.read_csv('winequality-red.csv', sep = ',')"
   ]
  },
  {
   "cell_type": "code",
   "execution_count": 143,
   "id": "8f816925",
   "metadata": {},
   "outputs": [
    {
     "data": {
      "text/html": [
       "<div>\n",
       "<style scoped>\n",
       "    .dataframe tbody tr th:only-of-type {\n",
       "        vertical-align: middle;\n",
       "    }\n",
       "\n",
       "    .dataframe tbody tr th {\n",
       "        vertical-align: top;\n",
       "    }\n",
       "\n",
       "    .dataframe thead th {\n",
       "        text-align: right;\n",
       "    }\n",
       "</style>\n",
       "<table border=\"1\" class=\"dataframe\">\n",
       "  <thead>\n",
       "    <tr style=\"text-align: right;\">\n",
       "      <th></th>\n",
       "      <th>fixed acidity</th>\n",
       "      <th>volatile acidity</th>\n",
       "      <th>citric acid</th>\n",
       "      <th>residual sugar</th>\n",
       "      <th>chlorides</th>\n",
       "      <th>free sulfur dioxide</th>\n",
       "      <th>total sulfur dioxide</th>\n",
       "      <th>density</th>\n",
       "      <th>pH</th>\n",
       "      <th>sulphates</th>\n",
       "      <th>alcohol</th>\n",
       "      <th>quality</th>\n",
       "    </tr>\n",
       "  </thead>\n",
       "  <tbody>\n",
       "    <tr>\n",
       "      <th>0</th>\n",
       "      <td>74</td>\n",
       "      <td>70</td>\n",
       "      <td>0</td>\n",
       "      <td>19</td>\n",
       "      <td>76</td>\n",
       "      <td>11</td>\n",
       "      <td>34</td>\n",
       "      <td>9978</td>\n",
       "      <td>351</td>\n",
       "      <td>56</td>\n",
       "      <td>94</td>\n",
       "      <td>0</td>\n",
       "    </tr>\n",
       "    <tr>\n",
       "      <th>1</th>\n",
       "      <td>78</td>\n",
       "      <td>88</td>\n",
       "      <td>0</td>\n",
       "      <td>26</td>\n",
       "      <td>98</td>\n",
       "      <td>25</td>\n",
       "      <td>67</td>\n",
       "      <td>9968</td>\n",
       "      <td>320</td>\n",
       "      <td>68</td>\n",
       "      <td>98</td>\n",
       "      <td>0</td>\n",
       "    </tr>\n",
       "    <tr>\n",
       "      <th>2</th>\n",
       "      <td>78</td>\n",
       "      <td>76</td>\n",
       "      <td>4</td>\n",
       "      <td>23</td>\n",
       "      <td>92</td>\n",
       "      <td>15</td>\n",
       "      <td>54</td>\n",
       "      <td>9970</td>\n",
       "      <td>326</td>\n",
       "      <td>65</td>\n",
       "      <td>98</td>\n",
       "      <td>0</td>\n",
       "    </tr>\n",
       "    <tr>\n",
       "      <th>3</th>\n",
       "      <td>112</td>\n",
       "      <td>28</td>\n",
       "      <td>56</td>\n",
       "      <td>19</td>\n",
       "      <td>75</td>\n",
       "      <td>17</td>\n",
       "      <td>60</td>\n",
       "      <td>9980</td>\n",
       "      <td>316</td>\n",
       "      <td>57</td>\n",
       "      <td>98</td>\n",
       "      <td>1</td>\n",
       "    </tr>\n",
       "    <tr>\n",
       "      <th>4</th>\n",
       "      <td>74</td>\n",
       "      <td>70</td>\n",
       "      <td>0</td>\n",
       "      <td>19</td>\n",
       "      <td>76</td>\n",
       "      <td>11</td>\n",
       "      <td>34</td>\n",
       "      <td>9978</td>\n",
       "      <td>351</td>\n",
       "      <td>56</td>\n",
       "      <td>94</td>\n",
       "      <td>0</td>\n",
       "    </tr>\n",
       "  </tbody>\n",
       "</table>\n",
       "</div>"
      ],
      "text/plain": [
       "   fixed acidity  volatile acidity  citric acid  residual sugar  chlorides  \\\n",
       "0             74                70            0              19         76   \n",
       "1             78                88            0              26         98   \n",
       "2             78                76            4              23         92   \n",
       "3            112                28           56              19         75   \n",
       "4             74                70            0              19         76   \n",
       "\n",
       "   free sulfur dioxide  total sulfur dioxide  density   pH  sulphates  \\\n",
       "0                   11                    34     9978  351         56   \n",
       "1                   25                    67     9968  320         68   \n",
       "2                   15                    54     9970  326         65   \n",
       "3                   17                    60     9980  316         57   \n",
       "4                   11                    34     9978  351         56   \n",
       "\n",
       "   alcohol  quality  \n",
       "0       94        0  \n",
       "1       98        0  \n",
       "2       98        0  \n",
       "3       98        1  \n",
       "4       94        0  "
      ]
     },
     "execution_count": 143,
     "metadata": {},
     "output_type": "execute_result"
    }
   ],
   "source": [
    "# преобразуем в целые (чтобы можно было с ними работать, как с категориальными)\n",
    "\n",
    "df['fixed acidity'] = df['fixed acidity'].apply(lambda val: int(val*10))\n",
    "df['volatile acidity'] = df['volatile acidity'].apply(lambda val: int(val*100))\n",
    "df['citric acid'] = df['citric acid'].apply(lambda val: int(val*100))\n",
    "df['residual sugar'] = df['residual sugar'].apply(lambda val: int(val*10))\n",
    "df['chlorides'] = df['chlorides'].apply(lambda val: int(val*1000))\n",
    "df['total sulfur dioxide'] = df['total sulfur dioxide'].apply(lambda val: int(val))\n",
    "df['free sulfur dioxide'] = df['free sulfur dioxide'].apply(lambda val: int(val))\n",
    "df['density'] = df['density'].apply(lambda val: int(val*10000))\n",
    "df['pH'] = df['pH'].apply(lambda val: int(val*100))\n",
    "df['sulphates'] = df['sulphates'].apply(lambda val: int(val*100))\n",
    "df['alcohol'] = df['alcohol'].apply(lambda val: int(val*10))\n",
    "\n",
    "# работать будем с качеством. Поделим на две категории: больше 5 - хорошее качество\n",
    "df['quality'] = df['quality'].apply(lambda val: 1 if val > 5 else 0)\n",
    "\n",
    "df.head()"
   ]
  },
  {
   "cell_type": "code",
   "execution_count": 144,
   "id": "4ba921c9",
   "metadata": {},
   "outputs": [
    {
     "name": "stdout",
     "output_type": "stream",
     "text": [
      "<class 'pandas.core.frame.DataFrame'>\n",
      "RangeIndex: 1599 entries, 0 to 1598\n",
      "Data columns (total 12 columns):\n",
      " #   Column                Non-Null Count  Dtype\n",
      "---  ------                --------------  -----\n",
      " 0   fixed acidity         1599 non-null   int64\n",
      " 1   volatile acidity      1599 non-null   int64\n",
      " 2   citric acid           1599 non-null   int64\n",
      " 3   residual sugar        1599 non-null   int64\n",
      " 4   chlorides             1599 non-null   int64\n",
      " 5   free sulfur dioxide   1599 non-null   int64\n",
      " 6   total sulfur dioxide  1599 non-null   int64\n",
      " 7   density               1599 non-null   int64\n",
      " 8   pH                    1599 non-null   int64\n",
      " 9   sulphates             1599 non-null   int64\n",
      " 10  alcohol               1599 non-null   int64\n",
      " 11  quality               1599 non-null   int64\n",
      "dtypes: int64(12)\n",
      "memory usage: 150.0 KB\n"
     ]
    }
   ],
   "source": [
    "df.info()"
   ]
  },
  {
   "cell_type": "code",
   "execution_count": 56,
   "id": "12e087e8",
   "metadata": {},
   "outputs": [],
   "source": [
    "#df.describe()"
   ]
  },
  {
   "cell_type": "markdown",
   "id": "8474710a",
   "metadata": {},
   "source": [
    "####  1. CatBoostClassifier\n",
    "\n",
    "Применить классификатор CatBoostClassifier к вашему набору данных. Обратите внимание, что catboost умеет работать с категориальными признаками (параметр cat_features - список индексов категориальных признаков), поэтому использование pd.factorize / pd.get_dummies здесь лишнее.\n",
    "\n",
    "- Вывести итерацию с наилучшим значением AUC (для бинарной классификации) или наилучшим значением Logloss.\n",
    "- Вывести значения метрик качества классификации на тестовых данных (accuracy и precision / recall / AUC, если применимо).\n",
    "- В случае бинарной классификации на основе CatBoostClassifier построить кривые PRC и ROC. Вычислить значения PRC-AUC и ROC-AUC.\n"
   ]
  },
  {
   "cell_type": "code",
   "execution_count": 145,
   "id": "bdb0b97d",
   "metadata": {},
   "outputs": [],
   "source": [
    "# Выделение целевой переменной\n",
    "\n",
    "Y = df.quality\n",
    "X = df.drop('quality', axis=1)"
   ]
  },
  {
   "cell_type": "code",
   "execution_count": 146,
   "id": "659b043e",
   "metadata": {},
   "outputs": [],
   "source": [
    "# Делим на обучающую и тестовую\n",
    "\n",
    "X_train, X_test, Y_train, Y_test = train_test_split(X, Y, train_size = 0.8, random_state = 1234)"
   ]
  },
  {
   "cell_type": "code",
   "execution_count": 147,
   "id": "e8acb498",
   "metadata": {},
   "outputs": [
    {
     "name": "stdout",
     "output_type": "stream",
     "text": [
      "[0, 1, 2, 3, 4, 5, 6, 7, 8, 9, 10]\n"
     ]
    }
   ],
   "source": [
    "# Объявление категориальных факторов\n",
    "\n",
    "cat_features = list(range(0, X.shape[1]))\n",
    "print(cat_features)"
   ]
  },
  {
   "cell_type": "code",
   "execution_count": 149,
   "id": "c286fc5d",
   "metadata": {},
   "outputs": [
    {
     "name": "stdout",
     "output_type": "stream",
     "text": [
      "Labels: \n",
      "Zero count = 744, One count = 855\n"
     ]
    }
   ],
   "source": [
    "print('Labels: '.format(set(Y)))\n",
    "print('Zero count = ' + str(len(Y) - sum(Y)) + ', One count = ' + str(sum(Y)))"
   ]
  },
  {
   "cell_type": "code",
   "execution_count": 150,
   "id": "55348de6",
   "metadata": {},
   "outputs": [
    {
     "data": {
      "text/plain": [
       "<catboost.core.CatBoostClassifier at 0x1333dee0>"
      ]
     },
     "execution_count": 150,
     "metadata": {},
     "output_type": "execute_result"
    }
   ],
   "source": [
    "# Обучение модели\n",
    "\n",
    "model = CatBoostClassifier(\n",
    "    iterations = 50,\n",
    "    learning_rate = 0.5,\n",
    "    random_seed = 63,\n",
    "    custom_loss = ['AUC', 'Accuracy'],\n",
    "    logging_level='Info'\n",
    ")\n",
    "model.fit(\n",
    "    X_train, Y_train,\n",
    "    cat_features=cat_features,\n",
    "    eval_set=(X_test, Y_test),\n",
    "    logging_level='Silent'   \n",
    ")\n"
   ]
  },
  {
   "cell_type": "code",
   "execution_count": 175,
   "id": "accca26e",
   "metadata": {},
   "outputs": [
    {
     "name": "stdout",
     "output_type": "stream",
     "text": [
      "\n",
      "Model is fitted: True\n",
      "Model params:{'iterations': 50, 'learning_rate': 0.5, 'random_seed': 63, 'logging_level': 'Info', 'custom_loss': ['AUC', 'Accuracy']}\n",
      "\n",
      "Best iteration: 13\n",
      "Best score:{'learn': {'Accuracy': 0.8647380766223612, 'Logloss': 0.36017596294711346}, 'validation': {'Accuracy': 0.7625, 'Logloss': 0.508875635089683, 'AUC': 0.8318274670018856}}\n"
     ]
    }
   ],
   "source": [
    "# параметры модели\n",
    "print()\n",
    "print('Model is fitted: ' + str(model.is_fitted()))\n",
    "print('Model params:' + str(model.get_params()))\n",
    "\n",
    "# лучшие параметры модели\n",
    "print()\n",
    "best_it = model.get_best_iteration()\n",
    "print('Best iteration: ' + str(best_it))\n",
    "best_sc = model.best_score_\n",
    "print('Best score:'  + str(best_sc))"
   ]
  },
  {
   "cell_type": "code",
   "execution_count": 129,
   "id": "24846373",
   "metadata": {},
   "outputs": [],
   "source": [
    "from sklearn.metrics import plot_roc_curve, roc_auc_score, accuracy_score, recall_score, precision_score"
   ]
  },
  {
   "cell_type": "code",
   "execution_count": 157,
   "id": "e160161e",
   "metadata": {},
   "outputs": [],
   "source": [
    "# метрики\n",
    "accur = accuracy_score(Y_test, model.predict(X_test))\n",
    "roc = roc_auc_score(Y_test, model.predict(X_test))\n",
    "prec = precision_score(Y_test, model.predict(X_test))\n",
    "rec = recall_score(Y_test, model.predict(X_test))"
   ]
  },
  {
   "cell_type": "code",
   "execution_count": 158,
   "id": "8784d27c",
   "metadata": {},
   "outputs": [
    {
     "name": "stdout",
     "output_type": "stream",
     "text": [
      "Accuracy:0.75\n",
      "AUC: 0.7523570081709616\n",
      "Precision: 0.7948717948717948\n",
      "Recall: 0.7209302325581395\n"
     ]
    }
   ],
   "source": [
    "print('Accuracy:'  + str(accur))\n",
    "print('AUC: ' + str(roc))\n",
    "print('Precision: ' + str(prec))\n",
    "print('Recall: ' + str(rec))\n"
   ]
  },
  {
   "cell_type": "code",
   "execution_count": 159,
   "id": "0f9bc129",
   "metadata": {},
   "outputs": [
    {
     "data": {
      "text/plain": [
       "<sklearn.metrics._plot.roc_curve.RocCurveDisplay at 0x569cbe0>"
      ]
     },
     "execution_count": 159,
     "metadata": {},
     "output_type": "execute_result"
    },
    {
     "data": {
      "image/png": "[encoded data removed]",
      "text/plain": [
       "<Figure size 432x288 with 1 Axes>"
      ]
     },
     "metadata": {
      "needs_background": "light"
     },
     "output_type": "display_data"
    }
   ],
   "source": [
    "# Roc-кривая\n",
    "plot_roc_curve(model, X_test, Y_test)"
   ]
  },
  {
   "cell_type": "code",
   "execution_count": 163,
   "id": "9d00c1ad",
   "metadata": {},
   "outputs": [],
   "source": [
    "from sklearn.metrics import PrecisionRecallDisplay"
   ]
  },
  {
   "cell_type": "code",
   "execution_count": 174,
   "id": "a37f6b45",
   "metadata": {},
   "outputs": [
    {
     "data": {
      "text/plain": [
       "<sklearn.metrics._plot.precision_recall_curve.PrecisionRecallDisplay at 0x12b5fa30>"
      ]
     },
     "execution_count": 174,
     "metadata": {},
     "output_type": "execute_result"
    },
    {
     "data": {
      "image/png": "[encoded data removed]",
      "text/plain": [
       "<Figure size 432x288 with 1 Axes>"
      ]
     },
     "metadata": {
      "needs_background": "light"
     },
     "output_type": "display_data"
    }
   ],
   "source": [
    "predictions = model.predict(X_test)\n",
    "precision, recall, _ = precision_recall_curve(Y_test, predictions)\n",
    "disp = PrecisionRecallDisplay(precision = precision, recall = recall)\n",
    "disp.plot()"
   ]
  },
  {
   "cell_type": "markdown",
   "id": "88028ec1",
   "metadata": {},
   "source": [
    "#### 2. Применить регрессию CatBoostRegressor к набору данных для регрессии. \n",
    "\n",
    "Вывести номер итерации и значения метрик (MAE и MSE) для наилучшей итерации. Обратите внимание, что в задаче восстановления регрессии целевая переменная имеет непрерывные значения."
   ]
  },
  {
   "cell_type": "code",
   "execution_count": 186,
   "id": "a69e94c5",
   "metadata": {},
   "outputs": [
    {
     "data": {
      "text/plain": [
       "<catboost.core.CatBoostRegressor at 0x1651f130>"
      ]
     },
     "execution_count": 186,
     "metadata": {},
     "output_type": "execute_result"
    }
   ],
   "source": [
    "model1 = CatBoostRegressor(\n",
    "    custom_metric=[\"MAE\", \"RMSE\"], \n",
    "    cat_features = cat_features\n",
    ")\n",
    "\n",
    "model1.fit(\n",
    "    X_train, Y_train,\n",
    "    eval_set=(X_test, Y_test),\n",
    "    logging_level='Silent'\n",
    ")"
   ]
  },
  {
   "cell_type": "code",
   "execution_count": 187,
   "id": "6e187e69",
   "metadata": {},
   "outputs": [
    {
     "name": "stdout",
     "output_type": "stream",
     "text": [
      "\n",
      "Best iteration: 395\n",
      "Best score:{'learn': {'MAE': 0.13559388571396264, 'RMSE': 0.17147267802002228}, 'validation': {'MAE': 0.30613259420429895, 'RMSE': 0.3803683830934712}}\n"
     ]
    }
   ],
   "source": [
    "# лучшие параметры модели\n",
    "print()\n",
    "best_it = model1.get_best_iteration()\n",
    "print('Best iteration: ' + str(best_it))\n",
    "best_sc = model1.best_score_\n",
    "print('Best score:'  + str(best_sc))"
   ]
  }
 ],
 "metadata": {
  "kernelspec": {
   "display_name": "Python 3 (ipykernel)",
   "language": "python",
   "name": "python3"
  },
  "language_info": {
   "codemirror_mode": {
    "name": "ipython",
    "version": 3
   },
   "file_extension": ".py",
   "mimetype": "text/x-python",
   "name": "python",
   "nbconvert_exporter": "python",
   "pygments_lexer": "ipython3",
   "version": "3.8.10"
  }
 },
 "nbformat": 4,
 "nbformat_minor": 5
}
