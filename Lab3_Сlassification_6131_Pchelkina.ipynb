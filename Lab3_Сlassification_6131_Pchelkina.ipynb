{
 "cells": [
  {
   "cell_type": "markdown",
   "id": "3b09be93",
   "metadata": {},
   "source": [
    "## Лабораторная работа 3\n",
    "### Классификация в sklearn. Метрики классификации\n",
    "### Выполнил: 6131-010302D, Пчелкина Юлия Жиганшевна"
   ]
  },
  {
   "cell_type": "markdown",
   "id": "a44cc060",
   "metadata": {},
   "source": [
    "###  0. Набор данных\n",
    "\n",
    "Выберите наборы данных, подходящие для многоклассовой и бинарной классификации. Опишите данные, что обозначает каждый столбец, какого типа (категориальный, вещественный, целочисленный, бинарный) данный столбец, при необходимости для категориальных в том числе бинарных признаков привести расшифровку их значений. В общем, проведите \"визуальный\" анализ ваших данных."
   ]
  },
  {
   "cell_type": "code",
   "execution_count": 1,
   "id": "aa4426ee",
   "metadata": {},
   "outputs": [],
   "source": [
    "import numpy as np\n",
    "import pandas as pd\n",
    "import seaborn as sns\n",
    "\n"
   ]
  },
  {
   "cell_type": "code",
   "execution_count": 2,
   "id": "81e7c0b6",
   "metadata": {},
   "outputs": [],
   "source": [
    "from sklearn.model_selection import train_test_split\n",
    "from sklearn.preprocessing import StandardScaler\n",
    "from sklearn.ensemble import RandomForestClassifier\n",
    "from sklearn.metrics import confusion_matrix, precision_recall_curve, classification_report, confusion_matrix, accuracy_score, roc_curve\n"
   ]
  },
  {
   "cell_type": "markdown",
   "id": "129d4802",
   "metadata": {},
   "source": [
    "Моллюск (морское ушко)\n",
    "\n",
    "Возраст морского ушка определяют, разрезая раковину через конус, окрашивая ее и подсчитывая количество колец под микроскопом.\n",
    "\n",
    "Для предсказания возраста используются и другие измерения (которые легче получить). "
   ]
  },
  {
   "cell_type": "code",
   "execution_count": 3,
   "id": "47921b5f",
   "metadata": {},
   "outputs": [],
   "source": [
    "df = pd.read_csv('abalone.csv', sep=',')"
   ]
  },
  {
   "cell_type": "code",
   "execution_count": 4,
   "id": "5a1b9aba",
   "metadata": {},
   "outputs": [
    {
     "data": {
      "text/html": [
       "<div>\n",
       "<style scoped>\n",
       "    .dataframe tbody tr th:only-of-type {\n",
       "        vertical-align: middle;\n",
       "    }\n",
       "\n",
       "    .dataframe tbody tr th {\n",
       "        vertical-align: top;\n",
       "    }\n",
       "\n",
       "    .dataframe thead th {\n",
       "        text-align: right;\n",
       "    }\n",
       "</style>\n",
       "<table border=\"1\" class=\"dataframe\">\n",
       "  <thead>\n",
       "    <tr style=\"text-align: right;\">\n",
       "      <th></th>\n",
       "      <th>Sex</th>\n",
       "      <th>Length</th>\n",
       "      <th>Diameter</th>\n",
       "      <th>Height</th>\n",
       "      <th>WholeWeight</th>\n",
       "      <th>ShuckedWeight</th>\n",
       "      <th>VisceraWeight</th>\n",
       "      <th>ShellWeight</th>\n",
       "      <th>Rings</th>\n",
       "    </tr>\n",
       "  </thead>\n",
       "  <tbody>\n",
       "    <tr>\n",
       "      <th>0</th>\n",
       "      <td>M</td>\n",
       "      <td>0.455</td>\n",
       "      <td>0.365</td>\n",
       "      <td>0.095</td>\n",
       "      <td>0.5140</td>\n",
       "      <td>0.2245</td>\n",
       "      <td>0.1010</td>\n",
       "      <td>0.150</td>\n",
       "      <td>15</td>\n",
       "    </tr>\n",
       "    <tr>\n",
       "      <th>1</th>\n",
       "      <td>M</td>\n",
       "      <td>0.350</td>\n",
       "      <td>0.265</td>\n",
       "      <td>0.090</td>\n",
       "      <td>0.2255</td>\n",
       "      <td>0.0995</td>\n",
       "      <td>0.0485</td>\n",
       "      <td>0.070</td>\n",
       "      <td>7</td>\n",
       "    </tr>\n",
       "    <tr>\n",
       "      <th>2</th>\n",
       "      <td>F</td>\n",
       "      <td>0.530</td>\n",
       "      <td>0.420</td>\n",
       "      <td>0.135</td>\n",
       "      <td>0.6770</td>\n",
       "      <td>0.2565</td>\n",
       "      <td>0.1415</td>\n",
       "      <td>0.210</td>\n",
       "      <td>9</td>\n",
       "    </tr>\n",
       "    <tr>\n",
       "      <th>3</th>\n",
       "      <td>M</td>\n",
       "      <td>0.440</td>\n",
       "      <td>0.365</td>\n",
       "      <td>0.125</td>\n",
       "      <td>0.5160</td>\n",
       "      <td>0.2155</td>\n",
       "      <td>0.1140</td>\n",
       "      <td>0.155</td>\n",
       "      <td>10</td>\n",
       "    </tr>\n",
       "    <tr>\n",
       "      <th>4</th>\n",
       "      <td>I</td>\n",
       "      <td>0.330</td>\n",
       "      <td>0.255</td>\n",
       "      <td>0.080</td>\n",
       "      <td>0.2050</td>\n",
       "      <td>0.0895</td>\n",
       "      <td>0.0395</td>\n",
       "      <td>0.055</td>\n",
       "      <td>7</td>\n",
       "    </tr>\n",
       "  </tbody>\n",
       "</table>\n",
       "</div>"
      ],
      "text/plain": [
       "  Sex  Length  Diameter  Height  WholeWeight  ShuckedWeight  VisceraWeight  \\\n",
       "0   M   0.455     0.365   0.095       0.5140         0.2245         0.1010   \n",
       "1   M   0.350     0.265   0.090       0.2255         0.0995         0.0485   \n",
       "2   F   0.530     0.420   0.135       0.6770         0.2565         0.1415   \n",
       "3   M   0.440     0.365   0.125       0.5160         0.2155         0.1140   \n",
       "4   I   0.330     0.255   0.080       0.2050         0.0895         0.0395   \n",
       "\n",
       "   ShellWeight  Rings  \n",
       "0        0.150     15  \n",
       "1        0.070      7  \n",
       "2        0.210      9  \n",
       "3        0.155     10  \n",
       "4        0.055      7  "
      ]
     },
     "execution_count": 4,
     "metadata": {},
     "output_type": "execute_result"
    }
   ],
   "source": [
    "df.head()"
   ]
  },
  {
   "cell_type": "markdown",
   "id": "c42f9920",
   "metadata": {},
   "source": [
    "Столбцы:\n",
    "\n",
    "- Sex - Пол (мужской, женский, ребенок). Категориальный признак.\n",
    "\n",
    "- Length - Длина (самое длинный замер раковины). Вещественный тип.\n",
    "\n",
    "- Diameter - Диаметр (замеряется перпендикулярно длине). Вещественный тип.\n",
    "\n",
    "- Height - Высота (моллюск с панцирем). Вещественный тип.\n",
    "\n",
    "- WholeWeight - Полный вес. Вещественный тип.\n",
    "\n",
    "- ShuckedWeight - Вес моллюска (без раковины). Вещественный тип.\n",
    "\n",
    "- VisceraWeight - Вес внутренностей моллюска (после \"кровотечения\"). Вещественный тип.\n",
    "\n",
    "- ShellWeight - Вес корпуса (после сушки). Вещественный тип.\n",
    "\n",
    "- Rings - Кольца (дает возраст в годах). Целочисленный тип."
   ]
  },
  {
   "cell_type": "markdown",
   "id": "1baaa927",
   "metadata": {},
   "source": [
    "## 1. Многоклассовая классификация:\n",
    "\n",
    "1.1 На любом датасете продемонстрировать многоклассовую классификацию с помощью ЛЮБОГО алгоритма. Оценить accuracy.\n",
    "\n",
    "1.2. То же самое с использованием кросс-валидации\n",
    "\n",
    "1.3. Поиграться с гиперпараметром, связанным со сложностью модели (в случае kNN — k_neighbours) и построить график accuracy для train set и test_set для разных значений гиперпараметра (в лекции есть пример построения подобного графика для kNN и датасета cancer, но можно строить как угодно такой график)\n",
    "\n",
    "1.4. Построить confusion matrix (это вроде матрицы TN / TP/ FN/ FP, только расширенной для многоклассовой классификации, чтобы понять в какие стороны чаще ошибается классификатор).\n"
   ]
  },
  {
   "cell_type": "markdown",
   "id": "fda64af5",
   "metadata": {},
   "source": [
    "__Метрики__\n",
    "\n",
    "Ошибка первого рода - __false positive error (FP)__, так же называют \"ложная тревога\", когда гипотеза принимается, хотя на самом деле она не верна.\n",
    "\n",
    "Ошибка второго рода - __false negative error (FN)__, так же называют \"пропуск цели\", когда гипотеза отвергается, хотя на самом деле она верна.\n",
    "\n",
    "\n",
    "__True positive (TP)__ - Верно принятые гипотезы.\n",
    "\n",
    "__True negative (TN)__ - Верно отвергнутые гипотезы."
   ]
  },
  {
   "cell_type": "markdown",
   "id": "cb223e2e",
   "metadata": {},
   "source": [
    "\n",
    "\n",
    "$$\\ accuracy = \\frac{TP + TN}{TP + TN + FP + FN}$$"
   ]
  },
  {
   "cell_type": "code",
   "execution_count": 5,
   "id": "3c16c342",
   "metadata": {},
   "outputs": [
    {
     "data": {
      "text/html": [
       "<div>\n",
       "<style scoped>\n",
       "    .dataframe tbody tr th:only-of-type {\n",
       "        vertical-align: middle;\n",
       "    }\n",
       "\n",
       "    .dataframe tbody tr th {\n",
       "        vertical-align: top;\n",
       "    }\n",
       "\n",
       "    .dataframe thead th {\n",
       "        text-align: right;\n",
       "    }\n",
       "</style>\n",
       "<table border=\"1\" class=\"dataframe\">\n",
       "  <thead>\n",
       "    <tr style=\"text-align: right;\">\n",
       "      <th></th>\n",
       "      <th>Length</th>\n",
       "      <th>Diameter</th>\n",
       "      <th>Height</th>\n",
       "      <th>WholeWeight</th>\n",
       "      <th>ShuckedWeight</th>\n",
       "      <th>VisceraWeight</th>\n",
       "      <th>ShellWeight</th>\n",
       "      <th>Age</th>\n",
       "    </tr>\n",
       "  </thead>\n",
       "  <tbody>\n",
       "    <tr>\n",
       "      <th>0</th>\n",
       "      <td>0.455</td>\n",
       "      <td>0.365</td>\n",
       "      <td>0.095</td>\n",
       "      <td>0.5140</td>\n",
       "      <td>0.2245</td>\n",
       "      <td>0.1010</td>\n",
       "      <td>0.150</td>\n",
       "      <td>2</td>\n",
       "    </tr>\n",
       "    <tr>\n",
       "      <th>1</th>\n",
       "      <td>0.350</td>\n",
       "      <td>0.265</td>\n",
       "      <td>0.090</td>\n",
       "      <td>0.2255</td>\n",
       "      <td>0.0995</td>\n",
       "      <td>0.0485</td>\n",
       "      <td>0.070</td>\n",
       "      <td>2</td>\n",
       "    </tr>\n",
       "    <tr>\n",
       "      <th>2</th>\n",
       "      <td>0.530</td>\n",
       "      <td>0.420</td>\n",
       "      <td>0.135</td>\n",
       "      <td>0.6770</td>\n",
       "      <td>0.2565</td>\n",
       "      <td>0.1415</td>\n",
       "      <td>0.210</td>\n",
       "      <td>2</td>\n",
       "    </tr>\n",
       "    <tr>\n",
       "      <th>3</th>\n",
       "      <td>0.440</td>\n",
       "      <td>0.365</td>\n",
       "      <td>0.125</td>\n",
       "      <td>0.5160</td>\n",
       "      <td>0.2155</td>\n",
       "      <td>0.1140</td>\n",
       "      <td>0.155</td>\n",
       "      <td>2</td>\n",
       "    </tr>\n",
       "    <tr>\n",
       "      <th>4</th>\n",
       "      <td>0.330</td>\n",
       "      <td>0.255</td>\n",
       "      <td>0.080</td>\n",
       "      <td>0.2050</td>\n",
       "      <td>0.0895</td>\n",
       "      <td>0.0395</td>\n",
       "      <td>0.055</td>\n",
       "      <td>2</td>\n",
       "    </tr>\n",
       "  </tbody>\n",
       "</table>\n",
       "</div>"
      ],
      "text/plain": [
       "   Length  Diameter  Height  WholeWeight  ShuckedWeight  VisceraWeight  \\\n",
       "0   0.455     0.365   0.095       0.5140         0.2245         0.1010   \n",
       "1   0.350     0.265   0.090       0.2255         0.0995         0.0485   \n",
       "2   0.530     0.420   0.135       0.6770         0.2565         0.1415   \n",
       "3   0.440     0.365   0.125       0.5160         0.2155         0.1140   \n",
       "4   0.330     0.255   0.080       0.2050         0.0895         0.0395   \n",
       "\n",
       "   ShellWeight  Age  \n",
       "0        0.150    2  \n",
       "1        0.070    2  \n",
       "2        0.210    2  \n",
       "3        0.155    2  \n",
       "4        0.055    2  "
      ]
     },
     "execution_count": 5,
     "metadata": {},
     "output_type": "execute_result"
    }
   ],
   "source": [
    "# столбец с полом убираем, работаем только с числовыми, к тому же он не особо информативный для определения возраста\n",
    "# заменим столбец с количеством колец на столбец с \" условным возрастом\"\n",
    "# Делим всех малюсков на 3 возрастные категории\n",
    "\n",
    "df['Age'] = df.apply(lambda row: round(row['Rings']/12) + 1, axis = 1)\n",
    "df1 = df.drop(columns = ['Rings', 'Sex'], axis = 1)\n",
    "df1.head()"
   ]
  },
  {
   "cell_type": "code",
   "execution_count": 6,
   "id": "d0ef411f",
   "metadata": {},
   "outputs": [
    {
     "data": {
      "text/plain": [
       "2    3593\n",
       "1     448\n",
       "3     136\n",
       "Name: Age, dtype: int64"
      ]
     },
     "execution_count": 6,
     "metadata": {},
     "output_type": "execute_result"
    }
   ],
   "source": [
    "df1['Age'].value_counts()"
   ]
  },
  {
   "cell_type": "code",
   "execution_count": 7,
   "id": "385dc27f",
   "metadata": {},
   "outputs": [],
   "source": [
    "# можем визуально оценить разделение по трем классам\n",
    "#sns.pairplot(df1, hue=\"Age\")"
   ]
  },
  {
   "cell_type": "code",
   "execution_count": 8,
   "id": "89c6a83f",
   "metadata": {},
   "outputs": [],
   "source": [
    "# Разделим набор данных на независимые и зависимые переменные. \n",
    "# Первые 7 столбцов являются независимыми переменными\n",
    "# Cтолбец \"Age\" - будет зависимой переменной. \n",
    "# Сохраняем как массив\n",
    "\n",
    "X = df1.iloc[:, 0:7].values\n",
    "Y = df1.iloc[:, 7].values"
   ]
  },
  {
   "cell_type": "code",
   "execution_count": 9,
   "id": "e7d0b708",
   "metadata": {},
   "outputs": [
    {
     "data": {
      "text/plain": [
       "array([[0.455 , 0.365 , 0.095 , ..., 0.2245, 0.101 , 0.15  ],\n",
       "       [0.35  , 0.265 , 0.09  , ..., 0.0995, 0.0485, 0.07  ],\n",
       "       [0.53  , 0.42  , 0.135 , ..., 0.2565, 0.1415, 0.21  ],\n",
       "       ...,\n",
       "       [0.6   , 0.475 , 0.205 , ..., 0.5255, 0.2875, 0.308 ],\n",
       "       [0.625 , 0.485 , 0.15  , ..., 0.531 , 0.261 , 0.296 ],\n",
       "       [0.71  , 0.555 , 0.195 , ..., 0.9455, 0.3765, 0.495 ]])"
      ]
     },
     "execution_count": 9,
     "metadata": {},
     "output_type": "execute_result"
    }
   ],
   "source": [
    "X"
   ]
  },
  {
   "cell_type": "code",
   "execution_count": 10,
   "id": "71dd362e",
   "metadata": {},
   "outputs": [
    {
     "data": {
      "text/plain": [
       "array([2, 2, 2, ..., 2, 2, 2], dtype=int64)"
      ]
     },
     "execution_count": 10,
     "metadata": {},
     "output_type": "execute_result"
    }
   ],
   "source": [
    "Y"
   ]
  },
  {
   "cell_type": "code",
   "execution_count": 11,
   "id": "e1f298e0",
   "metadata": {},
   "outputs": [],
   "source": [
    "# поделили на обучающую и тестовую выборки 1:3\n",
    "\n",
    "X_train, X_test, Y_train, Y_test = train_test_split(X, Y, test_size = 0.25, random_state = 21)"
   ]
  },
  {
   "cell_type": "code",
   "execution_count": 12,
   "id": "a59d911d",
   "metadata": {},
   "outputs": [
    {
     "data": {
      "text/plain": [
       "((3132, 7), (1045, 7))"
      ]
     },
     "execution_count": 12,
     "metadata": {},
     "output_type": "execute_result"
    }
   ],
   "source": [
    "X_train.shape, X_test.shape"
   ]
  },
  {
   "cell_type": "code",
   "execution_count": 13,
   "id": "96a7627c",
   "metadata": {},
   "outputs": [
    {
     "data": {
      "text/plain": [
       "(3132, 1045)"
      ]
     },
     "execution_count": 13,
     "metadata": {},
     "output_type": "execute_result"
    }
   ],
   "source": [
    "len(Y_train), len(Y_test)"
   ]
  },
  {
   "cell_type": "code",
   "execution_count": 14,
   "id": "9de7885e",
   "metadata": {},
   "outputs": [],
   "source": [
    "# проверка точности\n",
    "def evaluate(P, T):\n",
    "    # P - Предсказанные значение\n",
    "    # T - Истинные значения\n",
    "    # accuracy = correct predictions / all predictions\n",
    "    accuracy = np.mean(P == T)\n",
    "    print(accuracy*100, '%')"
   ]
  },
  {
   "cell_type": "markdown",
   "id": "286e2edc",
   "metadata": {},
   "source": [
    "#### \"Случайный лес\". Параметры:\n",
    "\n",
    "- n_estimators - число деревьев в классификации случайных лесов. \n",
    "- критерий - функция потерь (джини или энтропия)\n",
    "- random_state - начальное значение, используемое генератором случайных состояний для рандомизации набора данных.\n"
   ]
  },
  {
   "cell_type": "code",
   "execution_count": 15,
   "id": "a9457aa6",
   "metadata": {},
   "outputs": [
    {
     "data": {
      "text/plain": [
       "RandomForestClassifier(criterion='entropy', n_estimators=10, random_state=42)"
      ]
     },
     "execution_count": 15,
     "metadata": {},
     "output_type": "execute_result"
    }
   ],
   "source": [
    "# обучение\n",
    "model_Tree = RandomForestClassifier(n_estimators = 10, criterion = 'entropy', random_state = 42)\n",
    "model_Tree.fit(X_train, Y_train)"
   ]
  },
  {
   "cell_type": "code",
   "execution_count": 16,
   "id": "6e402e15",
   "metadata": {},
   "outputs": [],
   "source": [
    "import skimage\n",
    "from skimage import transform"
   ]
  },
  {
   "cell_type": "code",
   "execution_count": 17,
   "id": "aa615f93",
   "metadata": {},
   "outputs": [],
   "source": [
    "Y_Tree = model_Tree.predict(X_test)"
   ]
  },
  {
   "cell_type": "code",
   "execution_count": 18,
   "id": "c84ad2cf",
   "metadata": {},
   "outputs": [
    {
     "data": {
      "text/plain": [
       "array([[2, 2],\n",
       "       [2, 2],\n",
       "       [2, 2],\n",
       "       ...,\n",
       "       [1, 1],\n",
       "       [2, 2],\n",
       "       [2, 2]], dtype=int64)"
      ]
     },
     "execution_count": 18,
     "metadata": {},
     "output_type": "execute_result"
    }
   ],
   "source": [
    "compare = np.vstack([Y_Tree, Y_test]).T\n",
    "compare"
   ]
  },
  {
   "cell_type": "code",
   "execution_count": 19,
   "id": "8d903831",
   "metadata": {},
   "outputs": [
    {
     "data": {
      "text/plain": [
       "array([[ 69,  58,   0],\n",
       "       [ 37, 841,   3],\n",
       "       [  0,  37,   0]], dtype=int64)"
      ]
     },
     "execution_count": 19,
     "metadata": {},
     "output_type": "execute_result"
    }
   ],
   "source": [
    "# Вычисление матрицы ошибок\n",
    "# (i, j) элементы матрицы показывают число элементов класса `i` отнесённых классификатором к классу `j`\n",
    "# i - строки\n",
    "# j - столбцы\n",
    "conf_mat_Tree = confusion_matrix(Y_test, Y_Tree)\n",
    "conf_mat_Tree"
   ]
  },
  {
   "cell_type": "code",
   "execution_count": 20,
   "id": "a37a3982",
   "metadata": {},
   "outputs": [
    {
     "data": {
      "text/plain": [
       "<AxesSubplot:>"
      ]
     },
     "execution_count": 20,
     "metadata": {},
     "output_type": "execute_result"
    },
    {
     "data": {
      "image/png": "[encoded data removed]",
      "text/plain": [
       "<Figure size 432x288 with 2 Axes>"
      ]
     },
     "metadata": {
      "needs_background": "light"
     },
     "output_type": "display_data"
    }
   ],
   "source": [
    "# Визуализация матрицы ошибок\n",
    "sns.heatmap(conf_mat_Tree, annot=True)"
   ]
  },
  {
   "cell_type": "code",
   "execution_count": 21,
   "id": "7c2d5a34",
   "metadata": {},
   "outputs": [
    {
     "name": "stdout",
     "output_type": "stream",
     "text": [
      "87.08133971291866 %\n"
     ]
    }
   ],
   "source": [
    "# точность\n",
    "evaluate(Y_Tree, Y_test)"
   ]
  },
  {
   "cell_type": "code",
   "execution_count": 22,
   "id": "65f128d3",
   "metadata": {},
   "outputs": [
    {
     "data": {
      "text/plain": [
       "87.08133971291866"
      ]
     },
     "execution_count": 22,
     "metadata": {},
     "output_type": "execute_result"
    }
   ],
   "source": [
    "# accuracy\n",
    "accuracy_score(Y_test, Y_Tree) * 100"
   ]
  },
  {
   "cell_type": "code",
   "execution_count": 23,
   "id": "f1e6c66f",
   "metadata": {},
   "outputs": [
    {
     "name": "stdout",
     "output_type": "stream",
     "text": [
      "              precision    recall  f1-score   support\n",
      "\n",
      "           1       0.65      0.54      0.59       127\n",
      "           2       0.90      0.95      0.93       881\n",
      "           3       0.00      0.00      0.00        37\n",
      "\n",
      "    accuracy                           0.87      1045\n",
      "   macro avg       0.52      0.50      0.51      1045\n",
      "weighted avg       0.84      0.87      0.85      1045\n",
      "\n"
     ]
    }
   ],
   "source": [
    "report_Tree = classification_report(Y_test, Y_Tree)\n",
    "print(report_Tree)"
   ]
  },
  {
   "cell_type": "markdown",
   "id": "caf6f938",
   "metadata": {},
   "source": [
    "#### Байесовский классификатор"
   ]
  },
  {
   "cell_type": "code",
   "execution_count": 24,
   "id": "1141baa3",
   "metadata": {},
   "outputs": [],
   "source": [
    "from sklearn.naive_bayes import GaussianNB"
   ]
  },
  {
   "cell_type": "code",
   "execution_count": 25,
   "id": "c9d9b136",
   "metadata": {},
   "outputs": [],
   "source": [
    "# Инициализиуем классификатор\n",
    "model_Gauss = GaussianNB()"
   ]
  },
  {
   "cell_type": "code",
   "execution_count": 26,
   "id": "579e42e2",
   "metadata": {},
   "outputs": [
    {
     "data": {
      "text/plain": [
       "GaussianNB()"
      ]
     },
     "execution_count": 26,
     "metadata": {},
     "output_type": "execute_result"
    }
   ],
   "source": [
    "# обучаем\n",
    "model_Gauss.fit(X_train, Y_train)"
   ]
  },
  {
   "cell_type": "code",
   "execution_count": 27,
   "id": "5c413aaa",
   "metadata": {},
   "outputs": [],
   "source": [
    "Y_Gauss = model_Gauss.predict(X_test)"
   ]
  },
  {
   "cell_type": "code",
   "execution_count": 28,
   "id": "382a56e3",
   "metadata": {},
   "outputs": [
    {
     "name": "stdout",
     "output_type": "stream",
     "text": [
      "71.57894736842105 %\n"
     ]
    }
   ],
   "source": [
    "# точность\n",
    "evaluate(Y_Gauss, Y_test)"
   ]
  },
  {
   "cell_type": "code",
   "execution_count": 29,
   "id": "e1a69325",
   "metadata": {},
   "outputs": [
    {
     "data": {
      "text/plain": [
       "array([[115,  12,   0],\n",
       "       [135, 615, 131],\n",
       "       [  0,  19,  18]], dtype=int64)"
      ]
     },
     "execution_count": 29,
     "metadata": {},
     "output_type": "execute_result"
    }
   ],
   "source": [
    "# Вычисление матрицы ошибок\n",
    "conf_mat_Gauss = confusion_matrix(Y_test, Y_Gauss)\n",
    "conf_mat_Gauss"
   ]
  },
  {
   "cell_type": "code",
   "execution_count": 30,
   "id": "91ac1e8c",
   "metadata": {},
   "outputs": [
    {
     "data": {
      "text/plain": [
       "<AxesSubplot:>"
      ]
     },
     "execution_count": 30,
     "metadata": {},
     "output_type": "execute_result"
    },
    {
     "data": {
      "image/png": "[encoded data removed]",
      "text/plain": [
       "<Figure size 432x288 with 2 Axes>"
      ]
     },
     "metadata": {
      "needs_background": "light"
     },
     "output_type": "display_data"
    }
   ],
   "source": [
    "# Визуализация матрицы ошибок\n",
    "sns.heatmap(conf_mat_Gauss, annot=True)"
   ]
  },
  {
   "cell_type": "code",
   "execution_count": 31,
   "id": "f8837c33",
   "metadata": {},
   "outputs": [
    {
     "name": "stdout",
     "output_type": "stream",
     "text": [
      "71.57894736842105 %\n"
     ]
    }
   ],
   "source": [
    "# точность\n",
    "evaluate(Y_Gauss, Y_test)"
   ]
  },
  {
   "cell_type": "code",
   "execution_count": 32,
   "id": "114fad22",
   "metadata": {},
   "outputs": [
    {
     "data": {
      "text/plain": [
       "71.57894736842105"
      ]
     },
     "execution_count": 32,
     "metadata": {},
     "output_type": "execute_result"
    }
   ],
   "source": [
    "# accuracy \n",
    "accuracy_score(Y_test, Y_Gauss) * 100"
   ]
  },
  {
   "cell_type": "code",
   "execution_count": 33,
   "id": "ccfa6650",
   "metadata": {},
   "outputs": [
    {
     "name": "stdout",
     "output_type": "stream",
     "text": [
      "              precision    recall  f1-score   support\n",
      "\n",
      "           1       0.46      0.91      0.61       127\n",
      "           2       0.95      0.70      0.81       881\n",
      "           3       0.12      0.49      0.19        37\n",
      "\n",
      "    accuracy                           0.72      1045\n",
      "   macro avg       0.51      0.70      0.54      1045\n",
      "weighted avg       0.86      0.72      0.76      1045\n",
      "\n"
     ]
    }
   ],
   "source": [
    "report_Gauss = classification_report(Y_test, Y_Gauss)\n",
    "print(report_Gauss)"
   ]
  },
  {
   "cell_type": "markdown",
   "id": "9bb58316",
   "metadata": {},
   "source": [
    "#### K-соседей"
   ]
  },
  {
   "cell_type": "code",
   "execution_count": 34,
   "id": "9ae72467",
   "metadata": {},
   "outputs": [],
   "source": [
    "from sklearn.neighbors import KNeighborsClassifier"
   ]
  },
  {
   "cell_type": "code",
   "execution_count": 35,
   "id": "fb9f0ab4",
   "metadata": {},
   "outputs": [
    {
     "data": {
      "text/plain": [
       "0.8669856459330143"
      ]
     },
     "execution_count": 35,
     "metadata": {},
     "output_type": "execute_result"
    }
   ],
   "source": [
    "# пусть для трёх соседей\n",
    "   \n",
    "model_KNN1 = KNeighborsClassifier(n_neighbors = 3)\n",
    "    \n",
    "model_KNN1.fit(X_train, Y_train)\n",
    "Y_KNN = model_KNN1.predict(X_test)\n",
    "  \n",
    "accuracy_score(Y_test, Y_KNN) "
   ]
  },
  {
   "cell_type": "code",
   "execution_count": 36,
   "id": "f823a7ef",
   "metadata": {},
   "outputs": [],
   "source": [
    "# переберем разное количество сочедей, оценим точность\n",
    "\n",
    "best_accur = 0\n",
    "best_n = 0\n",
    "\n",
    "for i in range(1, 60):\n",
    "    best_model_KNN = KNeighborsClassifier(n_neighbors = i)\n",
    "    best_model_KNN.fit(X_train, Y_train)\n",
    "    pred_i = best_model_KNN.predict(X_test)\n",
    "    accur = accuracy_score(Y_test, pred_i)\n",
    "    if accur > best_accur:\n",
    "        best_accur = accur\n",
    "        best_n = i"
   ]
  },
  {
   "cell_type": "code",
   "execution_count": 37,
   "id": "fe43fef2",
   "metadata": {},
   "outputs": [],
   "source": [
    "# теперь для оптимального количества\n",
    "   \n",
    "model_KNN2 = KNeighborsClassifier(n_neighbors = best_n)\n",
    "    \n",
    "model_KNN2.fit(X_train, Y_train)\n",
    "Y_KNN2 = model_KNN2.predict(X_test)"
   ]
  },
  {
   "cell_type": "code",
   "execution_count": 38,
   "id": "7f0851b3",
   "metadata": {},
   "outputs": [
    {
     "data": {
      "text/plain": [
       "0.8851674641148325"
      ]
     },
     "execution_count": 38,
     "metadata": {},
     "output_type": "execute_result"
    }
   ],
   "source": [
    "accuracy_score(Y_test, Y_KNN2) "
   ]
  },
  {
   "cell_type": "code",
   "execution_count": 39,
   "id": "25c61ffb",
   "metadata": {},
   "outputs": [
    {
     "data": {
      "text/plain": [
       "array([[ 65,  62,   0],\n",
       "       [ 37, 839,   5],\n",
       "       [  0,  35,   2]], dtype=int64)"
      ]
     },
     "execution_count": 39,
     "metadata": {},
     "output_type": "execute_result"
    }
   ],
   "source": [
    "# Вычисление матрицы ошибок\n",
    "conf_mat_KNN = confusion_matrix(Y_test, Y_KNN)\n",
    "conf_mat_KNN"
   ]
  },
  {
   "cell_type": "code",
   "execution_count": 40,
   "id": "a0b35256",
   "metadata": {},
   "outputs": [],
   "source": [
    "# масштабируем данные\n",
    "scaler = StandardScaler()\n",
    "X_train_M = scaler.fit_transform(X_train)\n",
    "X_test_M = scaler.transform(X_test)\n"
   ]
  },
  {
   "cell_type": "code",
   "execution_count": 41,
   "id": "45f3b9fc",
   "metadata": {},
   "outputs": [],
   "source": [
    "model_KNN3 = KNeighborsClassifier(n_neighbors = best_n)\n",
    "    \n",
    "model_KNN3.fit(X_train_M, Y_train)\n",
    "Y_KNN3 = model_KNN3.predict(X_test_M)"
   ]
  },
  {
   "cell_type": "code",
   "execution_count": 42,
   "id": "1f02f600",
   "metadata": {},
   "outputs": [
    {
     "data": {
      "text/plain": [
       "0.8813397129186603"
      ]
     },
     "execution_count": 42,
     "metadata": {},
     "output_type": "execute_result"
    }
   ],
   "source": [
    "accuracy_score(Y_test, Y_KNN3) "
   ]
  },
  {
   "cell_type": "markdown",
   "id": "a770d90e",
   "metadata": {},
   "source": [
    "#### 2. Бинарная классификация.\n",
    "\n",
    "На любом (но уже другом, бинарном) датасете продемонстрировать бинарную классификацию (можно использовать любой алгоритм), посчитать метрики: accuracy, precision, recall, f-measure, а также составить classification_report"
   ]
  },
  {
   "cell_type": "markdown",
   "id": "106cdcf0",
   "metadata": {},
   "source": [
    "Для бинарной классификации рассмотрим только первый столбец исходного датасета.\n",
    "\n",
    "Оставим только значения \"F\"  и \"M\""
   ]
  },
  {
   "cell_type": "code",
   "execution_count": 43,
   "id": "164a31e6",
   "metadata": {},
   "outputs": [],
   "source": [
    "df2 = df.query('Sex != \"I\"')"
   ]
  },
  {
   "cell_type": "code",
   "execution_count": 44,
   "id": "cba72bc4",
   "metadata": {},
   "outputs": [],
   "source": [
    "from sklearn.linear_model import LogisticRegression"
   ]
  },
  {
   "cell_type": "code",
   "execution_count": 45,
   "id": "bfe8df75",
   "metadata": {},
   "outputs": [],
   "source": [
    "logreg_clf = LogisticRegression()"
   ]
  },
  {
   "cell_type": "code",
   "execution_count": 46,
   "id": "af65256c",
   "metadata": {},
   "outputs": [],
   "source": [
    "X1 = df2.iloc[:, 1:8].values\n",
    "\n",
    "Y1 = df2.iloc[:, 0].values"
   ]
  },
  {
   "cell_type": "code",
   "execution_count": 47,
   "id": "14a117f9",
   "metadata": {},
   "outputs": [
    {
     "data": {
      "text/plain": [
       "array([[0.455 , 0.365 , 0.095 , ..., 0.2245, 0.101 , 0.15  ],\n",
       "       [0.35  , 0.265 , 0.09  , ..., 0.0995, 0.0485, 0.07  ],\n",
       "       [0.53  , 0.42  , 0.135 , ..., 0.2565, 0.1415, 0.21  ],\n",
       "       ...,\n",
       "       [0.6   , 0.475 , 0.205 , ..., 0.5255, 0.2875, 0.308 ],\n",
       "       [0.625 , 0.485 , 0.15  , ..., 0.531 , 0.261 , 0.296 ],\n",
       "       [0.71  , 0.555 , 0.195 , ..., 0.9455, 0.3765, 0.495 ]])"
      ]
     },
     "execution_count": 47,
     "metadata": {},
     "output_type": "execute_result"
    }
   ],
   "source": [
    "X1"
   ]
  },
  {
   "cell_type": "code",
   "execution_count": 48,
   "id": "92fdd860",
   "metadata": {},
   "outputs": [
    {
     "data": {
      "text/plain": [
       "array(['M', 'M', 'F', ..., 'M', 'F', 'M'], dtype=object)"
      ]
     },
     "execution_count": 48,
     "metadata": {},
     "output_type": "execute_result"
    }
   ],
   "source": [
    "Y1"
   ]
  },
  {
   "cell_type": "code",
   "execution_count": 49,
   "id": "79c9485a",
   "metadata": {},
   "outputs": [],
   "source": [
    "# поделили на обучающую и тестовую выборки 1:3\n",
    "\n",
    "X1_train, X1_test, Y1_train, Y1_test = train_test_split(X1, Y1, test_size = 0.25, random_state = 21)"
   ]
  },
  {
   "cell_type": "code",
   "execution_count": 51,
   "id": "28182466",
   "metadata": {},
   "outputs": [
    {
     "data": {
      "text/plain": [
       "0.5416078984485191"
      ]
     },
     "execution_count": 51,
     "metadata": {},
     "output_type": "execute_result"
    }
   ],
   "source": [
    "model_Log = LogisticRegression()\n",
    "    \n",
    "model_Log.fit(X1_train, Y1_train)\n",
    "Y_Log = model_Log.predict(X1_test)\n",
    "        \n",
    "accuracy_score(Y1_test, Y_Log)"
   ]
  },
  {
   "cell_type": "code",
   "execution_count": 52,
   "id": "a7feef23",
   "metadata": {},
   "outputs": [
    {
     "data": {
      "text/plain": [
       "array([[ 80, 259],\n",
       "       [ 66, 304]], dtype=int64)"
      ]
     },
     "execution_count": 52,
     "metadata": {},
     "output_type": "execute_result"
    }
   ],
   "source": [
    "conf_mat_Log = confusion_matrix(Y1_test, Y_Log)\n",
    "conf_mat_Log"
   ]
  },
  {
   "cell_type": "code",
   "execution_count": 53,
   "id": "be229bb1",
   "metadata": {},
   "outputs": [
    {
     "name": "stdout",
     "output_type": "stream",
     "text": [
      "              precision    recall  f1-score   support\n",
      "\n",
      "           F       0.55      0.24      0.33       339\n",
      "           M       0.54      0.82      0.65       370\n",
      "\n",
      "    accuracy                           0.54       709\n",
      "   macro avg       0.54      0.53      0.49       709\n",
      "weighted avg       0.54      0.54      0.50       709\n",
      "\n"
     ]
    }
   ],
   "source": [
    "report_Log = classification_report(Y1_test, Y_Log)\n",
    "print(report_Log)"
   ]
  },
  {
   "cell_type": "code",
   "execution_count": 54,
   "id": "a51de2e3",
   "metadata": {},
   "outputs": [],
   "source": [
    "# масштабируем данные\n",
    "scaler = StandardScaler()\n",
    "X1_train_M = scaler.fit_transform(X1_train)\n",
    "X1_test_M = scaler.transform(X1_test)"
   ]
  },
  {
   "cell_type": "code",
   "execution_count": 56,
   "id": "2d29229d",
   "metadata": {},
   "outputs": [
    {
     "data": {
      "text/plain": [
       "0.5627644569816643"
      ]
     },
     "execution_count": 56,
     "metadata": {},
     "output_type": "execute_result"
    }
   ],
   "source": [
    "model_Log1 = LogisticRegression()\n",
    "    \n",
    "model_Log1.fit(X1_train_M, Y1_train)\n",
    "Y_Log1 = model_Log1.predict(X1_test_M)\n",
    "        \n",
    "accuracy_score(Y1_test, Y_Log1)"
   ]
  },
  {
   "cell_type": "markdown",
   "id": "0b7baf67",
   "metadata": {},
   "source": [
    "#### 3. Использование нормализации признаков \n",
    "\n",
    "В обоих задачах (бинарной и многоклассовой классификации) попробовать также вариант с предварительной нормализацией признаков (StandardScalerили MinMaxScaler). Оценить метрики качества в случае с нормализованными признаками и ненормализованными."
   ]
  },
  {
   "cell_type": "markdown",
   "id": "d9f206a7",
   "metadata": {},
   "source": [
    "Сделано (см. выше)\n",
    "\n",
    "Не большая разница.\n",
    "\n",
    "В случае бинарных значительно больше точность с нормированными признаками."
   ]
  }
 ],
 "metadata": {
  "kernelspec": {
   "display_name": "Python 3 (ipykernel)",
   "language": "python",
   "name": "python3"
  },
  "language_info": {
   "codemirror_mode": {
    "name": "ipython",
    "version": 3
   },
   "file_extension": ".py",
   "mimetype": "text/x-python",
   "name": "python",
   "nbconvert_exporter": "python",
   "pygments_lexer": "ipython3",
   "version": "3.8.10"
  }
 },
 "nbformat": 4,
 "nbformat_minor": 5
}
